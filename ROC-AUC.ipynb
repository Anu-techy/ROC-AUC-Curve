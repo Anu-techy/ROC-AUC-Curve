{
 "cells": [
  {
   "cell_type": "code",
   "execution_count": 147,
   "id": "33b7c593-c8a4-4e70-8015-0c8c50336e69",
   "metadata": {},
   "outputs": [],
   "source": [
    "import numpy as np\n",
    "import matplotlib.pyplot as plt"
   ]
  },
  {
   "cell_type": "code",
   "execution_count": 148,
   "id": "be2b66aa-8797-49c2-a99a-d6ba58991e50",
   "metadata": {},
   "outputs": [],
   "source": [
    "# Generating synthetic dataset from make classification\n",
    "from sklearn.datasets import make_classification\n",
    "from sklearn.model_selection import train_test_split\n",
    "\n",
    "X, y = make_classification(n_features=10,\n",
    "                           n_samples=1000,\n",
    "                           n_informative=4,\n",
    "                           n_redundant=6,\n",
    "                           n_repeated=0,\n",
    "                           n_classes=2,\n",
    "                           random_state=42\n",
    "                          )\n",
    "\n",
    "X_train, X_test, y_train, y_test = train_test_split(X, y, test_size=0.25, random_state=42)"
   ]
  },
  {
   "cell_type": "markdown",
   "id": "ffdb85d3-7335-424b-8384-c13f8d76d6d0",
   "metadata": {},
   "source": [
    "X is your feature matrix → 1000 rows × 10 columns\n",
    "\n",
    "y is your label vector → just 1000 labels (0 or 1)\n",
    "\n",
    "Each row in X represents a data point with 10 features. Each corresponding value in y tells you whether it's class 0 or 1."
   ]
  },
  {
   "cell_type": "code",
   "execution_count": 150,
   "id": "92b181ce-ba28-4f25-93a3-aaa0bae84280",
   "metadata": {},
   "outputs": [
    {
     "data": {
      "text/plain": [
       "((750, 10), (250, 10), (750,), (250,))"
      ]
     },
     "execution_count": 150,
     "metadata": {},
     "output_type": "execute_result"
    }
   ],
   "source": [
    "X_train.shape, X_test.shape, y_train.shape, y_test.shape"
   ]
  },
  {
   "cell_type": "markdown",
   "id": "ac4844ca-234c-4a9b-a08f-f8b29d4b2eef",
   "metadata": {},
   "source": [
    "# Logistic Regression Classifier"
   ]
  },
  {
   "cell_type": "code",
   "execution_count": 152,
   "id": "1ae417b7-5a84-4e8d-9cf7-28603eeaf627",
   "metadata": {},
   "outputs": [
    {
     "name": "stdout",
     "output_type": "stream",
     "text": [
      "              precision    recall  f1-score   support\n",
      "\n",
      "           0       0.66      0.69      0.67       122\n",
      "           1       0.69      0.66      0.68       128\n",
      "\n",
      "    accuracy                           0.68       250\n",
      "   macro avg       0.68      0.68      0.68       250\n",
      "weighted avg       0.68      0.68      0.68       250\n",
      "\n"
     ]
    }
   ],
   "source": [
    "from sklearn.linear_model import LogisticRegression\n",
    "from sklearn.metrics import classification_report\n",
    "\n",
    "model = LogisticRegression()\n",
    "model.fit(X_train,y_train)\n",
    "\n",
    "y_pred = model.predict(X_test)\n",
    "\n",
    "cr = classification_report(y_test,y_pred)\n",
    "print(cr)"
   ]
  },
  {
   "cell_type": "markdown",
   "id": "9c9e3dd0-0b6b-422a-9c61-f116ef19377a",
   "metadata": {},
   "source": [
    "here recall is 66 ,means for 100 patients, it is only detecting 66 patients having pneumonia.\n",
    "here in classification report , the numbers you see are as per 0.5 threshold"
   ]
  },
  {
   "cell_type": "code",
   "execution_count": 154,
   "id": "37e257f7-61fa-4413-af26-0859d03565b8",
   "metadata": {},
   "outputs": [
    {
     "data": {
      "text/plain": [
       "(250, 10)"
      ]
     },
     "execution_count": 154,
     "metadata": {},
     "output_type": "execute_result"
    }
   ],
   "source": [
    "X_test.shape"
   ]
  },
  {
   "cell_type": "markdown",
   "id": "7d501c9b-0308-4287-8db6-32fdbabd9b85",
   "metadata": {},
   "source": [
    "# interpreting model.predict_proba(X_test)[:,1]"
   ]
  },
  {
   "cell_type": "markdown",
   "id": "9d226c2f-b8e1-4e94-9bec-80bc8462cfda",
   "metadata": {},
   "source": [
    "model.predict_proba(X_test) - takes your entire test set X_test and runs it through the model.\n",
    "\n",
    "For each row (sample), it returns two probabilities: [P(class 0), P(class 1)]\n",
    "\n",
    "so output shape is (n_samples/rows, 2)\n",
    "\n",
    "model.predict_proba(X_test)[:,1] ---- This selects the second column (index 1), which is:\n",
    "\n",
    "The model's predicted probability that each sample belongs to class 1 (the positive class)\n",
    "\n",
    "So you get a 1D array of class 1 probabilities — one value per test sample."
   ]
  },
  {
   "cell_type": "markdown",
   "id": "8f34f018-777c-4b62-8713-60ce732008ba",
   "metadata": {},
   "source": [
    "# interpreting y_pred = (probs > 0.4).astype(int)"
   ]
  },
  {
   "cell_type": "markdown",
   "id": "05df933d-9599-46a2-9e4c-e5592b02f25b",
   "metadata": {},
   "source": [
    "probs > 0.4  --  creates a boolean array: [False, True, True, ... ]\n",
    "\n",
    "It means, if the predicted probability is greater than 0.4, predict class 1, Otherwise, predict class 0\n",
    "\n",
    ".astype(int) --  Converts True → 1 and False → 0, \n",
    "    \n",
    "So the final result is:  y_pred = [0, 1, 1, ... ]"
   ]
  },
  {
   "cell_type": "markdown",
   "id": "6139c103-871c-49ea-8ffc-382423bcebc4",
   "metadata": {},
   "source": [
    "# By default, models usually use 0.5. Why threshold = 0.4?"
   ]
  },
  {
   "cell_type": "markdown",
   "id": "6a75e449-ce3d-43dc-bfc8-e02f6cb94137",
   "metadata": {},
   "source": [
    "But you're lowering the threshold to 0.4, which means:\n",
    "\n",
    "You're allowing the model to predict 1 (positive) even if it's not super confident.\n",
    "\n",
    "This will typically increase recall (catch more positives), but may reduce precision (more false positives).\n",
    "\n",
    "so here y_pred = (probs > 0.4).astype(int) -- “If the probability of class 1 is more than 0.4, predict 1. Otherwise, predict 0.”"
   ]
  },
  {
   "cell_type": "code",
   "execution_count": 161,
   "id": "537aa476-83be-4529-9d79-ec813f16fcf0",
   "metadata": {},
   "outputs": [
    {
     "name": "stdout",
     "output_type": "stream",
     "text": [
      "              precision    recall  f1-score   support\n",
      "\n",
      "           0       0.75      0.57      0.65       122\n",
      "           1       0.67      0.82      0.74       128\n",
      "\n",
      "    accuracy                           0.70       250\n",
      "   macro avg       0.71      0.70      0.69       250\n",
      "weighted avg       0.71      0.70      0.70       250\n",
      "\n"
     ]
    }
   ],
   "source": [
    "probs = model.predict_proba(X_test)[:,1]\n",
    "y_pred = (probs > 0.4).astype(int)\n",
    "\n",
    "cr = classification_report(y_test,y_pred)\n",
    "print(cr)"
   ]
  },
  {
   "cell_type": "markdown",
   "id": "29097cf5-a063-44ee-8b9f-028977170084",
   "metadata": {},
   "source": [
    "Recall with 0.5 threshold is 0.66 \n",
    "Recall with 0.4 threshold is 0.82"
   ]
  },
  {
   "cell_type": "code",
   "execution_count": 163,
   "id": "fa8f293e-bb91-41ae-9982-0766e52c54bb",
   "metadata": {},
   "outputs": [],
   "source": [
    "fpr, tpr, thresholds = roc_curve(y_test, probs)"
   ]
  },
  {
   "cell_type": "code",
   "execution_count": 164,
   "id": "fd061fe7-dfa7-4554-84b3-a750bf35157b",
   "metadata": {},
   "outputs": [
    {
     "data": {
      "text/plain": [
       "((96,), (96,), (96,))"
      ]
     },
     "execution_count": 164,
     "metadata": {},
     "output_type": "execute_result"
    }
   ],
   "source": [
    "fpr.shape, tpr.shape, thresholds.shape"
   ]
  },
  {
   "cell_type": "markdown",
   "id": "3869c123-3f3e-4430-a0d7-26c9b1742ee8",
   "metadata": {},
   "source": [
    "The model produced 96 unique probability scores on X_test,\n",
    "\n",
    "Even though X_test has 1000 rows, the model may predict duplicate probabilities for different rows\n",
    "— especially with simple models like logistic regression.\n",
    "\n",
    "The number of unique predicted probability values depend on your X_test data — along with the model itself.\n",
    "\n",
    "Your model is a mathematical function that takes feature values (X_test) as input and outputs a probability (probs). \n",
    "\n",
    "So:\n",
    "\n",
    "If different samples in X_test have very similar or identical features, the model might output the same predicted probability for them.\n",
    "\n",
    "If X_test has diverse feature values, you'll get more variation in the predicted probabilities → meaning more unique values."
   ]
  },
  {
   "cell_type": "code",
   "execution_count": 166,
   "id": "fa5a5083-50fd-4964-aa57-fc000725ae30",
   "metadata": {},
   "outputs": [
    {
     "data": {
      "text/plain": [
       "(array([0.        , 0.        , 0.        , 0.00819672, 0.00819672]),\n",
       " array([0.       , 0.0078125, 0.265625 , 0.265625 , 0.2890625]),\n",
       " array([       inf, 0.97928246, 0.80890214, 0.80840719, 0.80207033]))"
      ]
     },
     "execution_count": 166,
     "metadata": {},
     "output_type": "execute_result"
    }
   ],
   "source": [
    "fpr[:5], tpr[:5], thresholds[:5]"
   ]
  },
  {
   "cell_type": "code",
   "execution_count": 167,
   "id": "fd4cf916-d328-4c06-bd7f-e99ff4eaa5b3",
   "metadata": {},
   "outputs": [
    {
     "data": {
      "text/plain": [
       "array([0.       , 0.0078125, 0.265625 , 0.265625 , 0.2890625, 0.2890625,\n",
       "       0.296875 , 0.296875 , 0.34375  , 0.34375  , 0.3515625, 0.3515625,\n",
       "       0.375    , 0.375    , 0.3984375, 0.3984375, 0.4296875, 0.4296875,\n",
       "       0.4375   , 0.4375   , 0.4609375, 0.4609375, 0.46875  , 0.46875  ,\n",
       "       0.4765625, 0.4765625, 0.484375 , 0.484375 , 0.4921875, 0.4921875,\n",
       "       0.5078125, 0.5078125, 0.515625 , 0.515625 , 0.5390625, 0.5390625,\n",
       "       0.5546875, 0.5546875, 0.5859375, 0.5859375, 0.625    , 0.625    ,\n",
       "       0.640625 , 0.640625 , 0.6484375, 0.6484375, 0.65625  , 0.65625  ,\n",
       "       0.71875  , 0.71875  , 0.75     , 0.75     , 0.7578125, 0.7578125,\n",
       "       0.765625 , 0.765625 , 0.7734375, 0.7734375, 0.7890625, 0.7890625,\n",
       "       0.796875 , 0.796875 , 0.84375  , 0.84375  , 0.8515625, 0.8515625,\n",
       "       0.859375 , 0.859375 , 0.8671875, 0.8671875, 0.875    , 0.875    ,\n",
       "       0.8828125, 0.8828125, 0.890625 , 0.890625 , 0.90625  , 0.90625  ,\n",
       "       0.9140625, 0.9140625, 0.921875 , 0.921875 , 0.9296875, 0.9296875,\n",
       "       0.9453125, 0.9453125, 0.9609375, 0.9609375, 0.96875  , 0.96875  ,\n",
       "       0.984375 , 0.984375 , 0.9921875, 0.9921875, 1.       , 1.       ])"
      ]
     },
     "execution_count": 167,
     "metadata": {},
     "output_type": "execute_result"
    }
   ],
   "source": [
    "tpr   # recall"
   ]
  },
  {
   "cell_type": "code",
   "execution_count": 168,
   "id": "e2d9d067-3d72-4ad9-a66e-00239a3ddfc4",
   "metadata": {},
   "outputs": [
    {
     "data": {
      "text/plain": [
       "array([0.9      , 0.8921875, 0.634375 , 0.634375 , 0.6109375, 0.6109375,\n",
       "       0.603125 , 0.603125 , 0.55625  , 0.55625  , 0.5484375, 0.5484375,\n",
       "       0.525    , 0.525    , 0.5015625, 0.5015625, 0.4703125, 0.4703125,\n",
       "       0.4625   , 0.4625   , 0.4390625, 0.4390625, 0.43125  , 0.43125  ,\n",
       "       0.4234375, 0.4234375, 0.415625 , 0.415625 , 0.4078125, 0.4078125,\n",
       "       0.3921875, 0.3921875, 0.384375 , 0.384375 , 0.3609375, 0.3609375,\n",
       "       0.3453125, 0.3453125, 0.3140625, 0.3140625, 0.275    , 0.275    ,\n",
       "       0.259375 , 0.259375 , 0.2515625, 0.2515625, 0.24375  , 0.24375  ,\n",
       "       0.18125  , 0.18125  , 0.15     , 0.15     , 0.1421875, 0.1421875,\n",
       "       0.134375 , 0.134375 , 0.1265625, 0.1265625, 0.1109375, 0.1109375,\n",
       "       0.103125 , 0.103125 , 0.05625  , 0.05625  , 0.0484375, 0.0484375,\n",
       "       0.040625 , 0.040625 , 0.0328125, 0.0328125, 0.025    , 0.025    ,\n",
       "       0.0171875, 0.0171875, 0.009375 , 0.009375 , 0.00625  , 0.00625  ,\n",
       "       0.0140625, 0.0140625, 0.021875 , 0.021875 , 0.0296875, 0.0296875,\n",
       "       0.0453125, 0.0453125, 0.0609375, 0.0609375, 0.06875  , 0.06875  ,\n",
       "       0.084375 , 0.084375 , 0.0921875, 0.0921875, 0.1      , 0.1      ])"
      ]
     },
     "execution_count": 168,
     "metadata": {},
     "output_type": "execute_result"
    }
   ],
   "source": [
    "# so i have to find index of 0.90 value in tpr\n",
    "desired_recall = 0.9\n",
    "abs(tpr - desired_recall)"
   ]
  },
  {
   "cell_type": "code",
   "execution_count": 169,
   "id": "116c0798-6df6-47ce-a9da-1308e6597a52",
   "metadata": {},
   "outputs": [
    {
     "data": {
      "text/plain": [
       "76"
      ]
     },
     "execution_count": 169,
     "metadata": {},
     "output_type": "execute_result"
    }
   ],
   "source": [
    "closest_index = np.argmin(abs(tpr - desired_recall))\n",
    "closest_index"
   ]
  },
  {
   "cell_type": "code",
   "execution_count": 170,
   "id": "661375fb-b6af-4efe-893b-70c62fef6c6b",
   "metadata": {},
   "outputs": [
    {
     "data": {
      "text/plain": [
       "0.26349585272229664"
      ]
     },
     "execution_count": 170,
     "metadata": {},
     "output_type": "execute_result"
    }
   ],
   "source": [
    "thresholds[closest_index]"
   ]
  },
  {
   "cell_type": "code",
   "execution_count": 171,
   "id": "274c836b-cc6a-417a-8443-636369680337",
   "metadata": {},
   "outputs": [
    {
     "name": "stdout",
     "output_type": "stream",
     "text": [
      "              precision    recall  f1-score   support\n",
      "\n",
      "           0       0.74      0.28      0.40       122\n",
      "           1       0.57      0.91      0.70       128\n",
      "\n",
      "    accuracy                           0.60       250\n",
      "   macro avg       0.65      0.59      0.55       250\n",
      "weighted avg       0.65      0.60      0.56       250\n",
      "\n"
     ]
    }
   ],
   "source": [
    "#so 0.26 is the threshold where i achieve 0.90 recall\n",
    "probs = model.predict_proba(X_test)[:,1]\n",
    "y_pred = (probs > 0.26).astype(int)\n",
    "\n",
    "cr = classification_report(y_test,y_pred)\n",
    "print(cr)"
   ]
  },
  {
   "cell_type": "markdown",
   "id": "86638a09-0d43-4bf1-8224-09ca8ab00806",
   "metadata": {},
   "source": [
    "# ROC Curve, FPR, TPR, Thresholds"
   ]
  },
  {
   "cell_type": "code",
   "execution_count": 173,
   "id": "c3f2d75e-eb4c-4844-ad0d-45c7c2842a95",
   "metadata": {
    "scrolled": true
   },
   "outputs": [
    {
     "data": {
      "image/png": "[encoded data removed]",
      "text/plain": [
       "<Figure size 800x600 with 1 Axes>"
      ]
     },
     "metadata": {},
     "output_type": "display_data"
    }
   ],
   "source": [
    "from sklearn.metrics import roc_curve, roc_auc_score\n",
    "\n",
    "probs = model.predict_proba(X_test)[:, 1]\n",
    "fpr, tpr, thresholds = roc_curve(y_test, probs)\n",
    "\n",
    "auc_score = roc_auc_score(y_test, probs)\n",
    "\n",
    "plt.figure(figsize=(8, 6))\n",
    "plt.plot(fpr, tpr, label=f\"ROC Curve (AUC = {auc_score:.2f})\")\n",
    "plt.plot([0, 1], [0, 1], linestyle='--', color='gray')  # Diagonal line\n",
    "plt.xlabel(\"False Positive Rate\")\n",
    "plt.ylabel(\"True Positive Rate (Recall)\")\n",
    "plt.title(\"ROC Curve\")\n",
    "plt.legend()\n",
    "plt.show()"
   ]
  },
  {
   "cell_type": "markdown",
   "id": "d53578ed-efc4-425b-aee9-0beeb42b2bcf",
   "metadata": {},
   "source": [
    "# XGB Classifier"
   ]
  },
  {
   "cell_type": "code",
   "execution_count": 175,
   "id": "884c2b47-27b8-4da1-a186-8b108b43af35",
   "metadata": {},
   "outputs": [
    {
     "name": "stdout",
     "output_type": "stream",
     "text": [
      "              precision    recall  f1-score   support\n",
      "\n",
      "           0       0.89      0.93      0.91       122\n",
      "           1       0.93      0.89      0.91       128\n",
      "\n",
      "    accuracy                           0.91       250\n",
      "   macro avg       0.91      0.91      0.91       250\n",
      "weighted avg       0.91      0.91      0.91       250\n",
      "\n"
     ]
    }
   ],
   "source": [
    "from xgboost import XGBClassifier\n",
    "\n",
    "model = XGBClassifier()\n",
    "model.fit(X_train, y_train)\n",
    "\n",
    "y_pred = model.predict(X_test)\n",
    "cr = classification_report(y_test,y_pred)\n",
    "print(cr)"
   ]
  },
  {
   "cell_type": "code",
   "execution_count": 176,
   "id": "dc16ad23-6cdb-4141-928a-37caf104729e",
   "metadata": {},
   "outputs": [
    {
     "data": {
      "image/png": "[encoded data removed]",
      "text/plain": [
       "<Figure size 800x600 with 1 Axes>"
      ]
     },
     "metadata": {},
     "output_type": "display_data"
    }
   ],
   "source": [
    "probs_xgb = model.predict_proba(X_test)[:, 1]\n",
    "fpr_xgb, tpr_xgb, thresholds_xgb = roc_curve(y_test, probs_xgb)\n",
    "\n",
    "auc_score_xgb = roc_auc_score(y_test, probs_xgb)\n",
    "\n",
    "plt.figure(figsize=(8, 6))\n",
    "plt.plot(fpr_xgb, tpr_xgb, label=f\"ROC Curve (AUC = {auc_score:.2f})\")\n",
    "plt.plot([0, 1], [0, 1], linestyle='--', color='gray')  # Diagonal line\n",
    "plt.xlabel(\"False Positive Rate\")\n",
    "plt.ylabel(\"True Positive Rate (Recall)\")\n",
    "plt.title(\"ROC Curve\")\n",
    "plt.legend()\n",
    "plt.show()"
   ]
  },
  {
   "cell_type": "markdown",
   "id": "eb36d879-5612-4546-8160-991abafdc126",
   "metadata": {},
   "source": [
    "here aoc is 0.95 which is very good model"
   ]
  },
  {
   "cell_type": "code",
   "execution_count": 200,
   "id": "f48afdad-5f00-4d83-bb70-4acf3334ba30",
   "metadata": {},
   "outputs": [
    {
     "data": {
      "image/png": "[encoded data removed]",
      "text/plain": [
       "<Figure size 800x600 with 1 Axes>"
      ]
     },
     "metadata": {},
     "output_type": "display_data"
    }
   ],
   "source": [
    "plt.figure(figsize=(8, 6))\n",
    "plt.plot(fpr, tpr, label=f\"ROC Curve of Logistic Model (AUC = {auc_score:.2f})\")\n",
    "plt.plot(fpr_xgb, tpr_xgb, label=f\"ROC Curve of XGB Classifier (AUC = {auc_score_xgb:.2f})\")\n",
    "plt.plot([0, 1], [0, 1], linestyle='--', color='gray')  # Diagonal line\n",
    "\n",
    "plt.xlabel(\"False Positive Rate\")\n",
    "plt.ylabel(\"True Positive Rate (Recall)\")\n",
    "plt.title(\"ROC Curve\")\n",
    "plt.legend()\n",
    "plt.show()"
   ]
  },
  {
   "cell_type": "markdown",
   "id": "71500ef3-9f34-4223-a3db-cf405e2b3074",
   "metadata": {},
   "source": [
    "# Finding best threshold to achieve 0.95 recall in XGB Model"
   ]
  },
  {
   "cell_type": "code",
   "execution_count": 209,
   "id": "aef69dbb-bedf-47f3-a4aa-d7c6fce45462",
   "metadata": {},
   "outputs": [
    {
     "data": {
      "text/plain": [
       "array([0.95     , 0.9421875, 0.85625  , 0.85625  , 0.746875 , 0.73125  ,\n",
       "       0.5515625, 0.5515625, 0.3640625, 0.3640625, 0.10625  , 0.10625  ,\n",
       "       0.090625 , 0.090625 , 0.075    , 0.075    , 0.0671875, 0.0671875,\n",
       "       0.059375 , 0.059375 , 0.0515625, 0.0515625, 0.04375  , 0.04375  ,\n",
       "       0.0359375, 0.0359375, 0.0203125, 0.0203125, 0.0125   , 0.0125   ,\n",
       "       0.0046875, 0.0046875, 0.003125 , 0.003125 , 0.003125 , 0.003125 ,\n",
       "       0.0109375, 0.0109375, 0.01875  , 0.01875  , 0.0265625, 0.0265625,\n",
       "       0.034375 , 0.034375 , 0.0421875, 0.0421875, 0.05     , 0.05     ])"
      ]
     },
     "execution_count": 209,
     "metadata": {},
     "output_type": "execute_result"
    }
   ],
   "source": [
    "# so i have to find index of 0.95 value in tpr\n",
    "desired_recall_xgb = 0.95\n",
    "abs(tpr_xgb - desired_recall_xgb)"
   ]
  },
  {
   "cell_type": "code",
   "execution_count": 211,
   "id": "0f3a2f09-353d-4491-9e0a-319efa10791b",
   "metadata": {},
   "outputs": [
    {
     "data": {
      "text/plain": [
       "32"
      ]
     },
     "execution_count": 211,
     "metadata": {},
     "output_type": "execute_result"
    }
   ],
   "source": [
    "closest_index_xgb = np.argmin(abs(tpr_xgb - desired_recall_xgb))\n",
    "closest_index_xgb"
   ]
  },
  {
   "cell_type": "code",
   "execution_count": 213,
   "id": "36dc8a42-5789-42f1-b749-4dc19bb1c72d",
   "metadata": {},
   "outputs": [
    {
     "data": {
      "text/plain": [
       "0.01948605"
      ]
     },
     "execution_count": 213,
     "metadata": {},
     "output_type": "execute_result"
    }
   ],
   "source": [
    "thresholds_xgb[closest_index_xgb]"
   ]
  },
  {
   "cell_type": "code",
   "execution_count": 215,
   "id": "a7ce78a2-0550-45ef-9376-e3e1d6354e45",
   "metadata": {},
   "outputs": [
    {
     "name": "stdout",
     "output_type": "stream",
     "text": [
      "              precision    recall  f1-score   support\n",
      "\n",
      "           0       0.93      0.71      0.81       122\n",
      "           1       0.78      0.95      0.85       128\n",
      "\n",
      "    accuracy                           0.83       250\n",
      "   macro avg       0.85      0.83      0.83       250\n",
      "weighted avg       0.85      0.83      0.83       250\n",
      "\n"
     ]
    }
   ],
   "source": [
    "#so 0.01948605 is the threshold where i achieve 0.95 recall in xgb\n",
    "probs_xgb = model.predict_proba(X_test)[:,1]\n",
    "y_pred = (probs_xgb > 0.01948605).astype(int)\n",
    "\n",
    "cr = classification_report(y_test,y_pred)\n",
    "print(cr)"
   ]
  },
  {
   "cell_type": "markdown",
   "id": "9f9485ac-3e01-49ad-9f1c-f895ebc40a60",
   "metadata": {},
   "source": [
    "# Finding best threshold to achieve 0.92 recall in XGB Model"
   ]
  },
  {
   "cell_type": "code",
   "execution_count": 219,
   "id": "47ad028c-7204-4ded-969d-db3776206aa8",
   "metadata": {},
   "outputs": [
    {
     "data": {
      "text/plain": [
       "array([0.92     , 0.9121875, 0.82625  , 0.82625  , 0.716875 , 0.70125  ,\n",
       "       0.5215625, 0.5215625, 0.3340625, 0.3340625, 0.07625  , 0.07625  ,\n",
       "       0.060625 , 0.060625 , 0.045    , 0.045    , 0.0371875, 0.0371875,\n",
       "       0.029375 , 0.029375 , 0.0215625, 0.0215625, 0.01375  , 0.01375  ,\n",
       "       0.0059375, 0.0059375, 0.0096875, 0.0096875, 0.0175   , 0.0175   ,\n",
       "       0.0253125, 0.0253125, 0.033125 , 0.033125 , 0.033125 , 0.033125 ,\n",
       "       0.0409375, 0.0409375, 0.04875  , 0.04875  , 0.0565625, 0.0565625,\n",
       "       0.064375 , 0.064375 , 0.0721875, 0.0721875, 0.08     , 0.08     ])"
      ]
     },
     "execution_count": 219,
     "metadata": {},
     "output_type": "execute_result"
    }
   ],
   "source": [
    "# so i have to find index of 0.92 value in tpr\n",
    "desired_recall_xgb = 0.92\n",
    "abs(tpr_xgb - desired_recall_xgb)"
   ]
  },
  {
   "cell_type": "code",
   "execution_count": 221,
   "id": "01ff5cdb-eca5-4b74-9751-3f63ebf7596b",
   "metadata": {},
   "outputs": [
    {
     "data": {
      "text/plain": [
       "24"
      ]
     },
     "execution_count": 221,
     "metadata": {},
     "output_type": "execute_result"
    }
   ],
   "source": [
    "closest_index_xgb = np.argmin(abs(tpr_xgb - desired_recall_xgb))\n",
    "closest_index_xgb"
   ]
  },
  {
   "cell_type": "code",
   "execution_count": 223,
   "id": "5496792c-a262-4d25-adff-eca287619f08",
   "metadata": {},
   "outputs": [
    {
     "data": {
      "text/plain": [
       "0.30599597"
      ]
     },
     "execution_count": 223,
     "metadata": {},
     "output_type": "execute_result"
    }
   ],
   "source": [
    "thresholds_xgb[closest_index_xgb]"
   ]
  },
  {
   "cell_type": "code",
   "execution_count": 225,
   "id": "4325c739-b9f8-4b2d-bb60-510a6cb7470c",
   "metadata": {},
   "outputs": [
    {
     "name": "stdout",
     "output_type": "stream",
     "text": [
      "              precision    recall  f1-score   support\n",
      "\n",
      "           0       0.90      0.89      0.90       122\n",
      "           1       0.90      0.91      0.90       128\n",
      "\n",
      "    accuracy                           0.90       250\n",
      "   macro avg       0.90      0.90      0.90       250\n",
      "weighted avg       0.90      0.90      0.90       250\n",
      "\n"
     ]
    }
   ],
   "source": [
    "#so 00.30599597 is the threshold where i achieve 0.92 recall in xgb\n",
    "probs_xgb = model.predict_proba(X_test)[:,1]\n",
    "y_pred = (probs_xgb > 0.30599597).astype(int)\n",
    "\n",
    "cr = classification_report(y_test,y_pred)\n",
    "print(cr)"
   ]
  },
  {
   "cell_type": "code",
   "execution_count": null,
   "id": "640b1a8a-28d8-4d09-8ce4-d79d42be3172",
   "metadata": {},
   "outputs": [],
   "source": [
    "Conclusion : with 0.92, recall and precision are much balanced"
   ]
  },
  {
   "cell_type": "code",
   "execution_count": null,
   "id": "a1b0a409-dd70-43b2-8daf-549cb5b9de6d",
   "metadata": {},
   "outputs": [],
   "source": []
  }
 ],
 "metadata": {
  "kernelspec": {
   "display_name": "Python [conda env:base] *",
   "language": "python",
   "name": "conda-base-py"
  },
  "language_info": {
   "codemirror_mode": {
    "name": "ipython",
    "version": 3
   },
   "file_extension": ".py",
   "mimetype": "text/x-python",
   "name": "python",
   "nbconvert_exporter": "python",
   "pygments_lexer": "ipython3",
   "version": "3.12.7"
  }
 },
 "nbformat": 4,
 "nbformat_minor": 5
}
